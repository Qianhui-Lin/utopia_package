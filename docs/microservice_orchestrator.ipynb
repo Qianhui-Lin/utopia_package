{
 "cells": [
  {
   "cell_type": "code",
   "execution_count": 2,
   "id": "b52bb160",
   "metadata": {},
   "outputs": [
    {
     "name": "stderr",
     "output_type": "stream",
     "text": [
      "/Users/qianhuilin/Library/Caches/pypoetry/virtualenvs/utopia-DHOqgSej-py3.9/lib/python3.9/site-packages/urllib3/__init__.py:35: NotOpenSSLWarning: urllib3 v2 only supports OpenSSL 1.1.1+, currently the 'ssl' module is compiled with 'LibreSSL 2.8.3'. See: https://github.com/urllib3/urllib3/issues/3020\n",
      "  warnings.warn(\n"
     ]
    }
   ],
   "source": [
    "import sys\n",
    "import os\n",
    "import requests\n",
    "\n",
    "# Add the src directory to the Python path\n",
    "from utopia.utopia import utopiaModel\n",
    "sys.path.append('/Users/qianhuilin/Desktop/Envision/UTOPIA_package/utopia_package/src')\n",
    "from utopia.microservice.generate_object.generate_object_app import *"
   ]
  },
  {
   "cell_type": "markdown",
   "id": "515f08c7",
   "metadata": {},
   "source": [
    "## Load user data"
   ]
  },
  {
   "cell_type": "markdown",
   "id": "5bc38054",
   "metadata": {},
   "source": [
    "### initialize config and input collections (optional)"
   ]
  },
  {
   "cell_type": "code",
   "execution_count": null,
   "id": "87f82ec5",
   "metadata": {},
   "outputs": [],
   "source": [
    "res = requests.post(\"http://localhost:8000/init_collections\")\n",
    "print(res.json())"
   ]
  },
  {
   "cell_type": "code",
   "execution_count": 4,
   "id": "8f968fbe",
   "metadata": {},
   "outputs": [
    {
     "name": "stdout",
     "output_type": "stream",
     "text": [
      "{'status': 'success', 'inserted_id': '68679c4eedc728dc97145006'}\n"
     ]
    }
   ],
   "source": [
    "# Submit config\n",
    "config_data = utopiaModel.load_json_file(\"data/default_config.json\")\n",
    "res = requests.post(\"http://localhost:8000/config\", json={\"data\": config_data})\n",
    "print(res.json())"
   ]
  },
  {
   "cell_type": "code",
   "execution_count": 5,
   "id": "ca303be7",
   "metadata": {},
   "outputs": [
    {
     "name": "stdout",
     "output_type": "stream",
     "text": [
      "{'status': 'success', 'inserted_id': '68679c50edc728dc97145007'}\n"
     ]
    }
   ],
   "source": [
    "# Submit input data\n",
    "input_data = utopiaModel.load_json_file(\"data/default_data.json\")\n",
    "res = requests.post(\"http://localhost:8000/input\", json={\"data\": input_data})\n",
    "print(res.json())"
   ]
  },
  {
   "cell_type": "markdown",
   "id": "728ff92e",
   "metadata": {},
   "source": [
    "## Generate objects"
   ]
  }
 ],
 "metadata": {
  "kernelspec": {
   "display_name": "utopia-DHOqgSej-py3.9",
   "language": "python",
   "name": "python3"
  },
  "language_info": {
   "codemirror_mode": {
    "name": "ipython",
    "version": 3
   },
   "file_extension": ".py",
   "mimetype": "text/x-python",
   "name": "python",
   "nbconvert_exporter": "python",
   "pygments_lexer": "ipython3",
   "version": "3.9.6"
  }
 },
 "nbformat": 4,
 "nbformat_minor": 5
}
