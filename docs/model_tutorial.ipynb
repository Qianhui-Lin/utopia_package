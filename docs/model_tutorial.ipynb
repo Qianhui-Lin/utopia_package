{
 "cells": [
  {
   "cell_type": "markdown",
   "metadata": {},
   "source": [
    "## Notebook: Running UTOPIA Model Step by Step"
   ]
  },
  {
   "cell_type": "markdown",
   "metadata": {},
   "source": [
    "### Import the necessary libraries and the UTOPIA class."
   ]
  },
  {
   "cell_type": "code",
   "execution_count": null,
   "metadata": {},
   "outputs": [],
   "source": [
    "from utopia.utopia import utopiaModel\n",
    "from utopia.preprocessing.RC_generator_json import *"
   ]
  },
  {
   "cell_type": "code",
   "execution_count": null,
   "metadata": {},
   "outputs": [],
   "source": [
    "import json\n",
    "from utopia.microservice.generate_object.generate_object_app import *"
   ]
  },
  {
   "cell_type": "markdown",
   "metadata": {},
   "source": [
    "#### Step 1: Load Configuration and Data Files"
   ]
  },
  {
   "cell_type": "code",
   "execution_count": null,
   "metadata": {},
   "outputs": [],
   "source": [
    "\n",
    "# Load the default configuration and data from the 'data' folder.\n",
    "data_data = utopiaModel.load_json_file(\"data/default_data.json\")\n",
    "config_data = utopiaModel.load_json_file(\"data/default_config.json\")\n"
   ]
  },
  {
   "cell_type": "code",
   "execution_count": null,
   "metadata": {},
   "outputs": [],
   "source": [
    "\n",
    "# Display the loaded config and data to ensure they were loaded correctly.\n",
    "print(\"Loaded Configuration Data:\", config_data)\n",
    "print(\"Loaded Input Data:\", data_data)\n"
   ]
  },
  {
   "cell_type": "code",
   "execution_count": null,
   "metadata": {},
   "outputs": [],
   "source": [
    "\n",
    "# Pretty print with indentation\n",
    "print(\"Loaded Configuration Data:\")\n",
    "print(json.dumps(config_data, indent=2))\n",
    "print(\"\\nLoaded Input Data:\")\n",
    "print(json.dumps(data_data, indent=2))"
   ]
  },
  {
   "cell_type": "markdown",
   "metadata": {},
   "source": [
    "### Insert initial data into database"
   ]
  },
  {
   "cell_type": "code",
   "execution_count": null,
   "metadata": {},
   "outputs": [],
   "source": [
    "import pymongo\n",
    "from datetime import datetime\n",
    "client = pymongo.MongoClient(\"mongodb://localhost:27017/\")\n",
    "db = client['utopia']\n",
    "config_collection = db['configure_data']\n",
    "input_collection = db['input_data']\n",
    "config_document = config_collection.insert_one(config_data)\n",
    "input_document = input_collection.insert_one(data_data)"
   ]
  },
  {
   "cell_type": "code",
   "execution_count": null,
   "metadata": {},
   "outputs": [],
   "source": [
    "# initialize_mongo_collections()"
   ]
  },
  {
   "cell_type": "code",
   "execution_count": null,
   "metadata": {},
   "outputs": [],
   "source": [
    "\n",
    "# add_derived_parameters()\n",
    "#cgenerate_particles_dataframe()\n",
    "# generate_coding_dictionaries()\n"
   ]
  },
  {
   "cell_type": "markdown",
   "metadata": {},
   "source": [
    "\n",
    "#### Step 2: Initialize the UTOPIA Model with the Loaded Data"
   ]
  },
  {
   "cell_type": "code",
   "execution_count": null,
   "metadata": {},
   "outputs": [],
   "source": [
    "\n",
    "# We now initialize the model by passing the loaded data into the UTOPIA class.\n",
    "model = utopiaModel(config=config_data, data=data_data)\n"
   ]
  },
  {
   "cell_type": "code",
   "execution_count": null,
   "metadata": {},
   "outputs": [],
   "source": []
  },
  {
   "cell_type": "code",
   "execution_count": null,
   "metadata": {},
   "outputs": [],
   "source": [
    "model.summarize()"
   ]
  },
  {
   "cell_type": "markdown",
   "metadata": {},
   "source": [
    "#### Step 3: Running the Model\n"
   ]
  },
  {
   "cell_type": "code",
   "execution_count": null,
   "metadata": {},
   "outputs": [],
   "source": [
    "model.run()  # Run the model to estimate steady state solution for the system."
   ]
  },
  {
   "cell_type": "code",
   "execution_count": null,
   "metadata": {},
   "outputs": [],
   "source": [
    "from utopia.results_processing.mass_balance_check import*\n",
    "massBalance(model)"
   ]
  },
  {
   "cell_type": "markdown",
   "metadata": {},
   "source": [
    "\n",
    "#### Step 4: Output and Results\n"
   ]
  },
  {
   "cell_type": "code",
   "execution_count": null,
   "metadata": {},
   "outputs": [],
   "source": [
    "from utopia.results_processing.process_results import*\n",
    "# Process results\n",
    "processor = ResultsProcessor(model)  # Pass model with results\n"
   ]
  },
  {
   "cell_type": "markdown",
   "metadata": {},
   "source": [
    "#### Process rate constants"
   ]
  },
  {
   "cell_type": "code",
   "execution_count": null,
   "metadata": {},
   "outputs": [],
   "source": [
    "processor.create_rateConstants_table()\n",
    "processor.plot_rateConstants()\n",
    "processor.RC_df.head(20)\n"
   ]
  },
  {
   "cell_type": "code",
   "execution_count": null,
   "metadata": {},
   "outputs": [],
   "source": [
    "processor.RC_df.head(20)"
   ]
  },
  {
   "cell_type": "markdown",
   "metadata": {},
   "source": [
    "#### General results: Heatmaps of mass and particle number distribution"
   ]
  },
  {
   "cell_type": "code",
   "execution_count": null,
   "metadata": {},
   "outputs": [],
   "source": [
    "processor.estimate_flows()\n",
    "processor.generate_flows_dict()\n",
    "processor.process_results()\n",
    "for fraction in [\"mass_fraction\", \"number_fraction\"]:\n",
    "    processor.plot_fractionDistribution_heatmaps(fraction)\n"
   ]
  },
  {
   "cell_type": "code",
   "execution_count": null,
   "metadata": {},
   "outputs": [],
   "source": [
    "processor.Results_extended"
   ]
  },
  {
   "cell_type": "markdown",
   "metadata": {},
   "source": [
    "#### Results by compartment"
   ]
  },
  {
   "cell_type": "code",
   "execution_count": null,
   "metadata": {},
   "outputs": [],
   "source": [
    "processor.extract_results_by_compartment()\n",
    "for fraction in [\"%_mass\", \"%_number\"]:\n",
    "    processor.plot_compartment_distribution(fraction)\n",
    "processor.results_by_comp\n",
    "\n"
   ]
  },
  {
   "cell_type": "markdown",
   "metadata": {},
   "source": [
    "#### Mass balance by compartment\n"
   ]
  },
  {
   "cell_type": "code",
   "execution_count": null,
   "metadata": {},
   "outputs": [],
   "source": [
    "for i in range(len(processor.results_by_comp)):\n",
    "    emissions=sum(processor.model.emiss_dict_g_s[processor.results_by_comp['Compartments'].iloc[i]].values())\n",
    "    print(f\"Mass balance for {processor.results_by_comp['Compartments'].iloc[i]}: {processor.results_by_comp['Total_inflows_g_s'].iloc[i]+emissions-processor.results_by_comp['Total_outflows_g_s'].iloc[i]}\")"
   ]
  },
  {
   "cell_type": "markdown",
   "metadata": {},
   "source": [
    "#### Exposure Indicators"
   ]
  },
  {
   "cell_type": "code",
   "execution_count": null,
   "metadata": {},
   "outputs": [],
   "source": [
    "# Calculate exposure indicators\n",
    "processor.estimate_exposure_indicators()"
   ]
  },
  {
   "cell_type": "markdown",
   "metadata": {},
   "source": [
    "##### Persistence and Residence Time"
   ]
  },
  {
   "cell_type": "code",
   "execution_count": null,
   "metadata": {},
   "outputs": [],
   "source": [
    "processor.processed_results[\"Overall_exposure_indicators\"]"
   ]
  },
  {
   "cell_type": "code",
   "execution_count": null,
   "metadata": {},
   "outputs": [],
   "source": [
    "processor.processed_results[\"size_fraction_indicators\"]\n"
   ]
  },
  {
   "cell_type": "markdown",
   "metadata": {},
   "source": [
    "##### Dispersed mass fraction (φ1) and remotely transferred mass fraction (φ2)"
   ]
  },
  {
   "cell_type": "code",
   "execution_count": null,
   "metadata": {},
   "outputs": [],
   "source": [
    "processor.estimate_emission_fractions()"
   ]
  },
  {
   "cell_type": "code",
   "execution_count": null,
   "metadata": {},
   "outputs": [],
   "source": [
    "pd.DataFrame(processor.processed_results[\"emission_fractions_mass_data\"])"
   ]
  },
  {
   "cell_type": "code",
   "execution_count": null,
   "metadata": {},
   "outputs": [],
   "source": [
    "## Alternativelly to runing step by step one can run all functions at the same time and then acess specific reutls from the processed_results dictionary\n",
    "\n",
    "#processor.process_all()  # Process all results"
   ]
  },
  {
   "cell_type": "code",
   "execution_count": null,
   "metadata": {},
   "outputs": [],
   "source": [
    "#pd.DataFrame(processor.processed_results[\"emission_fractions_mass_data\"])"
   ]
  },
  {
   "cell_type": "markdown",
   "metadata": {},
   "source": [
    "\n",
    "#### Step 5: Advanced Configuration (Optional)\n"
   ]
  },
  {
   "cell_type": "markdown",
   "metadata": {},
   "source": [
    "\n",
    "##### To adjust some input parameters the user can modify the values given in the default conf_data or data_data json files manually by modifying the json file provided in the data folder and saving it under a new name to the load it using then load them using the load_json_file function as provided above or following the comands provided below:\n"
   ]
  },
  {
   "cell_type": "code",
   "execution_count": null,
   "metadata": {},
   "outputs": [],
   "source": [
    "# Define modifications (follow the structure providede in the default configuration data (data_data))\n",
    "modifications = {\n",
    "    \"MPdensity_kg_m3\": 1580,\n",
    "    \"MP_composition\": \"PVC\",\n",
    "    'FI': 0.5\n",
    "}\n",
    "\n",
    "# Modify and save the data\n",
    "model.modify_and_save_data(data_data, modifications, \"custom_data.json\")"
   ]
  },
  {
   "cell_type": "code",
   "execution_count": null,
   "metadata": {},
   "outputs": [],
   "source": [
    "# Load the modified data to check if the changes were applied correctly\n",
    "user_data = utopiaModel.load_json_file(\"data/custom_data.json\")\n",
    "Newmodel = utopiaModel(config=config_data, data=user_data)\n",
    "Newmodel.summarize()"
   ]
  },
  {
   "cell_type": "code",
   "execution_count": null,
   "metadata": {},
   "outputs": [],
   "source": [
    "Newmodel.run()  # Run the model to estimate steady state solution for the system.\n",
    "# Process results   \n",
    "# Process results\n",
    "processorNew = ResultsProcessor(Newmodel)  # Pass model with results\n",
    "processorNew.process_all()  # Process all results\n"
   ]
  },
  {
   "cell_type": "code",
   "execution_count": null,
   "metadata": {},
   "outputs": [],
   "source": [
    "pd.DataFrame(processorNew.processed_results[\"emission_fractions_mass_data\"])"
   ]
  },
  {
   "cell_type": "markdown",
   "metadata": {},
   "source": [
    "\n",
    "# Step 7: Saving the Model Output (Optional)\n",
    "\n",
    "# If you want users to save the results, add a section for that.\n",
    "# Example:\n",
    "# output_file = \"model_output.json\"\n",
    "# with open(output_file, \"w\") as file:\n",
    "#     json.dump(results, file)\n",
    "# print(f\"Results saved to {output_file}\")\n"
   ]
  },
  {
   "cell_type": "markdown",
   "metadata": {},
   "source": [
    "# For example, assuming the model returns results as a dictionary or DataFrame:\n",
    "# results = model.get_results()  # Replace with the actual result retrieval method\n",
    "\n",
    "# Let's print the results (this part depends on how your model outputs results).\n",
    "# print(\"Model Results:\", results)\n",
    "\n",
    "# Step 5: Visualize the Results (Optional)\n",
    "\n",
    "# If your model has data for visualization, we can plot the results using libraries like matplotlib.\n",
    "# Example:\n",
    "# import matplotlib.pyplot as plt\n",
    "\n",
    "# plt.plot(results['some_data_column'])  # Replace with actual results data\n",
    "# plt.title(\"Model Results Over Time\")\n",
    "# plt.xlabel(\"Time\")\n",
    "# plt.ylabel(\"Value\")\n",
    "# plt.show()\n",
    "\n",
    "# Step 6: Advanced Configuration (Optional)\n",
    "\n",
    "# Allow users to adjust some configuration parameters if needed. This could be useful if you want to modify some settings during runtime.\n",
    "# For example:\n",
    "# user_config = {\"MPdensity_kg_m3\": 1200, \"boxName\": \"New_Box\"}  # Modify based on user input\n",
    "# model.update_config(user_config)  # Assuming a method for updating configuration\n",
    "\n",
    "# Step 7: Saving the Model Output (Optional)\n",
    "\n",
    "# If you want users to save the results, add a section for that.\n",
    "# Example:\n",
    "# output_file = \"model_output.json\"\n",
    "# with open(output_file, \"w\") as file:\n",
    "#     json.dump(results, file)\n",
    "# print(f\"Results saved to {output_file}\")\n"
   ]
  }
 ],
 "metadata": {
  "kernelspec": {
   "display_name": "utopia-DHOqgSej-py3.9",
   "language": "python",
   "name": "python3"
  },
  "language_info": {
   "codemirror_mode": {
    "name": "ipython",
    "version": 3
   },
   "file_extension": ".py",
   "mimetype": "text/x-python",
   "name": "python",
   "nbconvert_exporter": "python",
   "pygments_lexer": "ipython3",
   "version": "3.9.6"
  }
 },
 "nbformat": 4,
 "nbformat_minor": 2
}
